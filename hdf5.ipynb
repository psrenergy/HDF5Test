{
 "cells": [
  {
   "cell_type": "markdown",
   "id": "5d843be5",
   "metadata": {},
   "source": [
    "Exemplo 1 - Cravando num dataset"
   ]
  },
  {
   "cell_type": "code",
   "execution_count": null,
   "id": "9cfec87b",
   "metadata": {},
   "outputs": [
    {
     "name": "stdout",
     "output_type": "stream",
     "text": [
      "Arquivo HDF5 criado: pessoas.h5\n"
     ]
    }
   ],
   "source": [
    "import h5py\n",
    "import numpy as np\n",
    "# ---------------------------\n",
    "# 1) Definição dos tipos\n",
    "# ---------------------------\n",
    "# Strings de tamanho fixo\n",
    "t_rua    = h5py.string_dtype(encoding='ascii', length=64)\n",
    "t_cidade = h5py.string_dtype(encoding='ascii', length=32)\n",
    "t_cep    = h5py.string_dtype(encoding='ascii', length=16)\n",
    "t_nome   = h5py.string_dtype(encoding='ascii', length=64)\n",
    "\n",
    "# Tipo composto Endereco\n",
    "t_endereco = np.dtype([\n",
    "    (\"rua\",    t_rua),\n",
    "    (\"cidade\", t_cidade),\n",
    "    (\"cep\",    t_cep),\n",
    "])\n",
    "\n",
    "# Tipo composto Pessoa com array fixo de 3 endereços\n",
    "t_pessoa = np.dtype([\n",
    "    (\"nome\", t_nome),\n",
    "    (\"idade\", np.int32),\n",
    "    (\"enderecos\", t_endereco, (3,)),  # shape (3,) de t_endereco\n",
    "])\n",
    "\n",
    "# ---------------------------\n",
    "# 2) Dados de exemplo\n",
    "# ---------------------------\n",
    "dados = np.zeros(2, dtype=t_pessoa)\n",
    "\n",
    "dados[0][\"nome\"] = \"Marcos Tavares\"\n",
    "dados[0][\"idade\"] = 55\n",
    "dados[0][\"enderecos\"][0] = (\"Rua A, 123\", \"Rio de Janeiro\", \"20000-000\")\n",
    "dados[0][\"enderecos\"][1] = (\"Av. Brasil, 500\", \"Niteroi\", \"24000-000\")\n",
    "dados[0][\"enderecos\"][2] = (\"Rua das Flores, 10\", \"Petropolis\", \"25600-000\")\n",
    "\n",
    "dados[1][\"nome\"] = \"Bruno Lima\"\n",
    "dados[1][\"idade\"] = 41\n",
    "dados[1][\"enderecos\"][0] = (\"Rua X, 1\", \"Sao Paulo\", \"01000-000\")\n",
    "dados[1][\"enderecos\"][1] = (\"Av. Paulista, 1000\", \"Sao Paulo\", \"01310-100\")\n",
    "dados[1][\"enderecos\"][2] = (\"Rua Y, 99\", \"Campinas\", \"13000-000\")\n",
    "\n",
    "# ---------------------------\n",
    "# 3) Criação do arquivo HDF5 e dataset\n",
    "# ---------------------------\n",
    "file_path = \"pessoas.h5\"\n",
    "with h5py.File(file_path, \"w\") as f:\n",
    "    dset = f.create_dataset(\"pessoas\", data=dados, dtype=t_pessoa)\n",
    "\n",
    "print(f\"Arquivo HDF5 criado: {file_path}\")"
   ]
  }
 ],
 "metadata": {
  "kernelspec": {
   "display_name": ".venv",
   "language": "python",
   "name": "python3"
  },
  "language_info": {
   "codemirror_mode": {
    "name": "ipython",
    "version": 3
   },
   "file_extension": ".py",
   "mimetype": "text/x-python",
   "name": "python",
   "nbconvert_exporter": "python",
   "pygments_lexer": "ipython3",
   "version": "3.13.1"
  }
 },
 "nbformat": 4,
 "nbformat_minor": 5
}
